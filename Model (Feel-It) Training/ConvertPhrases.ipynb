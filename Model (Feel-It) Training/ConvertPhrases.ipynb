{
  "nbformat": 4,
  "nbformat_minor": 0,
  "metadata": {
    "colab": {
      "provenance": [],
      "authorship_tag": "ABX9TyP/tpa7nTjjOaO3V65DZXI5",
      "include_colab_link": true
    },
    "kernelspec": {
      "name": "python3",
      "display_name": "Python 3"
    },
    "language_info": {
      "name": "python"
    }
  },
  "cells": [
    {
      "cell_type": "markdown",
      "metadata": {
        "id": "view-in-github",
        "colab_type": "text"
      },
      "source": [
        "<a href=\"https://colab.research.google.com/github/GiovanniBorrelli/RetiGeografiche/blob/main/ConvertPhrases.ipynb\" target=\"_parent\"><img src=\"https://colab.research.google.com/assets/colab-badge.svg\" alt=\"Open In Colab\"/></a>"
      ]
    },
    {
      "cell_type": "code",
      "source": [
        "import re\n",
        "from openpyxl import Workbook"
      ],
      "metadata": {
        "id": "ye8oGJLWNNks"
      },
      "execution_count": 2,
      "outputs": []
    },
    {
      "cell_type": "code",
      "source": [
        "def extract_phrases_from_text(input_text):\n",
        "    phrases = []\n",
        "    lines = input_text.split(\"\\n\")\n",
        "    for line in lines:\n",
        "        # Verifica se la riga inizia con il modello di frase desiderato\n",
        "        if line.strip().startswith((\"An –\", \"St –\", \"Sg –\", \"Al –\", \"Vm –\", \"A –\", \"B –\", \"C –\", \"D –\", \"E –\", \"F –\", \"G –\", \"H –\", \"I –\", \"J –\", \"K –\", \"L –\", \"M –\", \"N –\", \"O –\", \"P –\", \"Q –\", \"R –\", \"S –\", \"T –\", \"U –\", \"V –\", \"W –\", \"X –\", \"Y –\", \"Z –\")):\n",
        "            phrases.append(line.strip())\n",
        "    return phrases\n",
        "\n",
        "def create_excel_file(phrases):\n",
        "    wb = Workbook()\n",
        "    ws = wb.active\n",
        "    ws.append([\"Frase\"])\n",
        "    for phrase in phrases:\n",
        "        ws.append([phrase.strip()])\n",
        "\n",
        "    wb.save(\"frasiFinale.xlsx\")  # Salva il file Excel\n",
        "\n",
        "    print(\"File Excel creato con successo!\")\n",
        "\n",
        "def main():\n",
        "    with open(\"custodia_cautelare_anonimizzato.txt\", \"r\") as file:  # Assicurati che 'estratto.txt' contenga il testo corretto\n",
        "        input_text = file.read()\n",
        "\n",
        "    phrases = extract_phrases_from_text(input_text)\n",
        "    create_excel_file(phrases)\n",
        "\n",
        "if __name__ == \"__main__\":\n",
        "    main()\n"
      ],
      "metadata": {
        "colab": {
          "base_uri": "https://localhost:8080/"
        },
        "id": "rxbygYAnYm0W",
        "outputId": "38f33393-9a16-421e-d128-139d6c7dd0cc"
      },
      "execution_count": 29,
      "outputs": [
        {
          "output_type": "stream",
          "name": "stdout",
          "text": [
            "File Excel creato con successo!\n"
          ]
        }
      ]
    },
    {
      "cell_type": "code",
      "source": [
        "from google.colab import drive\n",
        "drive.mount('/content/drive')"
      ],
      "metadata": {
        "id": "srfcLXFUMnL1"
      },
      "execution_count": null,
      "outputs": []
    }
  ]
}