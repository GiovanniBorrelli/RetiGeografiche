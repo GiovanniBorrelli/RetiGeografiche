{
  "nbformat": 4,
  "nbformat_minor": 0,
  "metadata": {
    "colab": {
      "provenance": [],
      "authorship_tag": "ABX9TyPrIlmDSh+GgAxFZdFDWVjC",
      "include_colab_link": true
    },
    "kernelspec": {
      "name": "python3",
      "display_name": "Python 3"
    },
    "language_info": {
      "name": "python"
    }
  },
  "cells": [
    {
      "cell_type": "markdown",
      "metadata": {
        "id": "view-in-github",
        "colab_type": "text"
      },
      "source": [
        "<a href=\"https://colab.research.google.com/github/GiovanniBorrelli/RetiGeografiche/blob/main/Vader.ipynb\" target=\"_parent\"><img src=\"https://colab.research.google.com/assets/colab-badge.svg\" alt=\"Open In Colab\"/></a>"
      ]
    },
    {
      "cell_type": "code",
      "source": [
        "# Installa la libreria necessaria\n",
        "!pip install vaderSentiment\n",
        "\n",
        "# Importa il modulo di sentiment analysis da VADER\n",
        "from vaderSentiment.vaderSentiment import SentimentIntensityAnalyzer\n",
        "\n",
        "# Crea un oggetto SentimentIntensityAnalyzer\n",
        "analyzer = SentimentIntensityAnalyzer()\n",
        "\n",
        "# Funzione per l'analisi del sentiment\n",
        "def sentiment_analysis(sentence):\n",
        "    # Ottieni il compound score dall'analisi di VADER\n",
        "    score = analyzer.polarity_scores(sentence)[\"compound\"]\n",
        "\n",
        "    # Classifica il sentiment in base al compound score\n",
        "    if score >= 0.05:\n",
        "        return \"Positivo\"\n",
        "    elif score <= -0.05:\n",
        "        return \"Negativo\"\n",
        "    else:\n",
        "        return \"Neutro\""
      ],
      "metadata": {
        "colab": {
          "base_uri": "https://localhost:8080/"
        },
        "id": "ssXvebGnfiz5",
        "outputId": "db576385-f74c-40ae-95f2-728ce3812806"
      },
      "execution_count": null,
      "outputs": [
        {
          "output_type": "stream",
          "name": "stdout",
          "text": [
            "Requirement already satisfied: vaderSentiment in /usr/local/lib/python3.10/dist-packages (3.3.2)\n",
            "Requirement already satisfied: requests in /usr/local/lib/python3.10/dist-packages (from vaderSentiment) (2.31.0)\n",
            "Requirement already satisfied: charset-normalizer<4,>=2 in /usr/local/lib/python3.10/dist-packages (from requests->vaderSentiment) (3.3.2)\n",
            "Requirement already satisfied: idna<4,>=2.5 in /usr/local/lib/python3.10/dist-packages (from requests->vaderSentiment) (3.6)\n",
            "Requirement already satisfied: urllib3<3,>=1.21.1 in /usr/local/lib/python3.10/dist-packages (from requests->vaderSentiment) (2.0.7)\n",
            "Requirement already satisfied: certifi>=2017.4.17 in /usr/local/lib/python3.10/dist-packages (from requests->vaderSentiment) (2023.11.17)\n"
          ]
        }
      ]
    },
    {
      "cell_type": "code",
      "source": [
        "# Frase di esempio per l'analisi del sentiment\n",
        "example_sentence = \"Google Colab è orribile e terribile!\"\n",
        "\n",
        "# Esegui l'analisi del sentiment sulla frase di esempio\n",
        "result = sentiment_analysis(example_sentence)\n",
        "\n",
        "# Stampare il risultato\n",
        "print(f\"Sentiment della frase: {result}\")"
      ],
      "metadata": {
        "colab": {
          "base_uri": "https://localhost:8080/"
        },
        "id": "aUtYsADmjQxC",
        "outputId": "bb2ed386-ace6-4c01-bf6b-d842ee24fee2"
      },
      "execution_count": null,
      "outputs": [
        {
          "output_type": "stream",
          "name": "stdout",
          "text": [
            "Sentiment della frase: Neutro\n"
          ]
        }
      ]
    },
    {
      "cell_type": "code",
      "source": [
        "!pip install vaderSentiment\n",
        "\n",
        "import nltk\n",
        "nltk.download('vader_lexicon')"
      ],
      "metadata": {
        "colab": {
          "base_uri": "https://localhost:8080/"
        },
        "id": "3WhPdT9EhsPi",
        "outputId": "e09afc5c-865e-4b16-c7df-7f41d3a43d3e"
      },
      "execution_count": null,
      "outputs": [
        {
          "output_type": "stream",
          "name": "stdout",
          "text": [
            "Requirement already satisfied: vaderSentiment in /usr/local/lib/python3.10/dist-packages (3.3.2)\n",
            "Requirement already satisfied: requests in /usr/local/lib/python3.10/dist-packages (from vaderSentiment) (2.31.0)\n",
            "Requirement already satisfied: charset-normalizer<4,>=2 in /usr/local/lib/python3.10/dist-packages (from requests->vaderSentiment) (3.3.2)\n",
            "Requirement already satisfied: idna<4,>=2.5 in /usr/local/lib/python3.10/dist-packages (from requests->vaderSentiment) (3.6)\n",
            "Requirement already satisfied: urllib3<3,>=1.21.1 in /usr/local/lib/python3.10/dist-packages (from requests->vaderSentiment) (2.0.7)\n",
            "Requirement already satisfied: certifi>=2017.4.17 in /usr/local/lib/python3.10/dist-packages (from requests->vaderSentiment) (2023.11.17)\n"
          ]
        },
        {
          "output_type": "stream",
          "name": "stderr",
          "text": [
            "[nltk_data] Downloading package vader_lexicon to /root/nltk_data...\n",
            "[nltk_data]   Package vader_lexicon is already up-to-date!\n"
          ]
        },
        {
          "output_type": "execute_result",
          "data": {
            "text/plain": [
              "True"
            ]
          },
          "metadata": {},
          "execution_count": 41
        }
      ]
    },
    {
      "cell_type": "code",
      "source": [
        "from vaderSentiment.vaderSentiment import SentimentIntensityAnalyzer\n",
        "\n",
        "def analyze_sentiment_italian(sentence):\n",
        "    sid = SentimentIntensityAnalyzer()\n",
        "    sentiment_scores = sid.polarity_scores(sentence)\n",
        "    compound_score = sentiment_scores['compound']\n",
        "\n",
        "    print(f\"Frase: {sentence}\")\n",
        "    print(f\"Compound Score: {compound_score}\")\n",
        "\n",
        "    if compound_score >= 0.05:\n",
        "        print(\"Sentimento: Positivo\")\n",
        "    elif compound_score <= -0.05:\n",
        "        print(\"Sentimento: Negativo\")\n",
        "    else:\n",
        "        print(\"Sentimento: Neutro\")\n",
        "\n",
        "    print(\"Metriche:\")\n",
        "    print(f\"Sentimento Positivo: {sentiment_scores['pos']}\")\n",
        "    print(f\"Sentimento Neutro: {sentiment_scores['neu']}\")\n",
        "    print(f\"Sentimento Negativo: {sentiment_scores['neg']}\")"
      ],
      "metadata": {
        "id": "91To8a-zhxbL"
      },
      "execution_count": null,
      "outputs": []
    },
    {
      "cell_type": "code",
      "source": [
        "sentence_to_analyze_italian = \"i am sad\"\n",
        "analyze_sentiment_italian(sentence_to_analyze_italian)"
      ],
      "metadata": {
        "colab": {
          "base_uri": "https://localhost:8080/"
        },
        "id": "LzjIHbSgiA-K",
        "outputId": "b5282d3a-17c6-4498-af49-32ddcbebc882"
      },
      "execution_count": null,
      "outputs": [
        {
          "output_type": "stream",
          "name": "stdout",
          "text": [
            "Frase: i am sad\n",
            "Compound Score: -0.4767\n",
            "Sentimento: Negativo\n",
            "Metriche:\n",
            "Sentimento Positivo: 0.0\n",
            "Sentimento Neutro: 0.392\n",
            "Sentimento Negativo: 0.608\n"
          ]
        }
      ]
    },
    {
      "cell_type": "code",
      "source": [
        "!pip uninstall vaderSentiment\n",
        "!pip install vader-multi"
      ],
      "metadata": {
        "colab": {
          "base_uri": "https://localhost:8080/",
          "height": 443
        },
        "id": "ZUai_wDXjiba",
        "outputId": "b5bdb647-bdd0-4b78-bf70-497d4c040aa7"
      },
      "execution_count": null,
      "outputs": [
        {
          "output_type": "stream",
          "name": "stdout",
          "text": [
            "Found existing installation: vaderSentiment 3.3.2\n",
            "Uninstalling vaderSentiment-3.3.2:\n",
            "  Would remove:\n",
            "    /usr/local/lib/python3.10/dist-packages/vaderSentiment-3.3.2.dist-info/*\n",
            "    /usr/local/lib/python3.10/dist-packages/vaderSentiment/*\n",
            "Proceed (Y/n)? Y\n",
            "  Successfully uninstalled vaderSentiment-3.3.2\n",
            "Collecting vader-multi\n",
            "  Downloading vader_multi-3.2.2.1-py2.py3-none-any.whl (126 kB)\n",
            "\u001b[2K     \u001b[90m━━━━━━━━━━━━━━━━━━━━━━━━━━━━━━━━━━━━━━━━\u001b[0m \u001b[32m126.7/126.7 kB\u001b[0m \u001b[31m1.9 MB/s\u001b[0m eta \u001b[36m0:00:00\u001b[0m\n",
            "\u001b[?25hRequirement already satisfied: requests in /usr/local/lib/python3.10/dist-packages (from vader-multi) (2.31.0)\n",
            "Collecting translatte (from vader-multi)\n",
            "  Downloading translatte-0.1-py3-none-any.whl (14 kB)\n",
            "Requirement already satisfied: charset-normalizer<4,>=2 in /usr/local/lib/python3.10/dist-packages (from requests->vader-multi) (3.3.2)\n",
            "Requirement already satisfied: idna<4,>=2.5 in /usr/local/lib/python3.10/dist-packages (from requests->vader-multi) (3.6)\n",
            "Requirement already satisfied: urllib3<3,>=1.21.1 in /usr/local/lib/python3.10/dist-packages (from requests->vader-multi) (2.0.7)\n",
            "Requirement already satisfied: certifi>=2017.4.17 in /usr/local/lib/python3.10/dist-packages (from requests->vader-multi) (2023.11.17)\n",
            "Installing collected packages: translatte, vader-multi\n",
            "Successfully installed translatte-0.1 vader-multi-3.2.2.1\n"
          ]
        },
        {
          "output_type": "display_data",
          "data": {
            "application/vnd.colab-display-data+json": {
              "pip_warning": {
                "packages": [
                  "vaderSentiment"
                ]
              }
            }
          },
          "metadata": {}
        }
      ]
    },
    {
      "cell_type": "code",
      "source": [
        "from vaderSentiment.vaderSentiment import SentimentIntensityAnalyzer\n",
        "\n",
        "analyzer = SentimentIntensityAnalyzer()\n",
        "analyzer.polarity_scores(\"VADER è MOLTO BELLO E INTELLIGENTE!\")"
      ],
      "metadata": {
        "colab": {
          "base_uri": "https://localhost:8080/"
        },
        "id": "HOMlVwRWj72s",
        "outputId": "2b97150c-9bcf-420f-da41-6f73ba940637"
      },
      "execution_count": 4,
      "outputs": [
        {
          "output_type": "execute_result",
          "data": {
            "text/plain": [
              "{'neg': 0.0, 'neu': 0.288, 'pos': 0.712, 'compound': 0.8981}"
            ]
          },
          "metadata": {},
          "execution_count": 4
        }
      ]
    }
  ]
}