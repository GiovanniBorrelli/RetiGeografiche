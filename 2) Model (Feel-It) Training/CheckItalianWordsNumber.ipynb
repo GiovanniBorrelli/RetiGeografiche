{
  "cells": [
    {
      "cell_type": "markdown",
      "metadata": {
        "id": "view-in-github",
        "colab_type": "text"
      },
      "source": [
        "<a href=\"https://colab.research.google.com/github/GiovanniBorrelli/RetiGeografiche/blob/main/2)%20Model%20(Feel-It)%20Training/CheckItalianWordsNumber.ipynb\" target=\"_parent\"><img src=\"https://colab.research.google.com/assets/colab-badge.svg\" alt=\"Open In Colab\"/></a>"
      ]
    },
    {
      "cell_type": "code",
      "source": [
        "import openpyxl\n",
        "import string\n",
        "from tqdm import tqdm\n",
        "import unicodedata\n",
        "\n",
        "def clean_text(text):\n",
        "    # Rimuovi la punteggiatura, le virgolette e il carattere speciale \"…\" (ignora l'apostrofo) e converti in minuscolo\n",
        "    translator = str.maketrans('', '', string.punctuation.replace(\"'\", \"\") + '“”…')\n",
        "    cleaned_text = text.translate(translator).lower()\n",
        "\n",
        "    # Rimuovi gli accenti\n",
        "    cleaned_text = ''.join(char for char in unicodedata.normalize('NFD', cleaned_text) if unicodedata.category(char) != 'Mn')\n",
        "\n",
        "    # Tratta i numeri come parole presenti nel dizionario\n",
        "    cleaned_text = ' '.join(word if word.isalpha() else 'numero' for word in cleaned_text.split())\n",
        "\n",
        "    return cleaned_text\n",
        "\n",
        "def count_words_in_sentence(sentence, dictionary_words, italian_names):\n",
        "    # Conta il numero di parole presenti e non presenti nel dizionario\n",
        "    words = clean_text(sentence).split()\n",
        "    word_count = {}\n",
        "    for word in words:\n",
        "        # Escludi la parola \"inc\" dal conteggio\n",
        "        if word != \"inc\":\n",
        "            word_count[word] = word_count.get(word, 0) + 1\n",
        "\n",
        "    present_words = sum(word_count[word] for word in word_count if word in dictionary_words or word in italian_names)\n",
        "    absent_words = sum(word_count[word] for word in word_count if word not in dictionary_words and word not in italian_names)\n",
        "\n",
        "    return present_words, absent_words\n",
        "\n",
        "\n",
        "def main(dictionary_file, excel_file, output_file, column_name, data_file):\n",
        "    # Carica il dizionario e crea un set di parole senza accenti\n",
        "    dictionary_words = count_words_in_dictionary(dictionary_file)\n",
        "\n",
        "    # Carica i nomi italiani dal dataset\n",
        "    italian_names = set()\n",
        "    with open(data_file, 'r', encoding='latin-1') as file:\n",
        "        csv_reader = csv.reader(file)\n",
        "        next(csv_reader)  # Salta l'intestazione\n",
        "        for row in csv_reader:\n",
        "            name = row[0]  # Assumi che il nome si trovi nella prima colonna (indice 0)\n",
        "            italian_names.add(clean_text(name))\n",
        "\n",
        "    # Apre il file Excel e ottiene il foglio di lavoro\n",
        "    workbook = openpyxl.load_workbook(excel_file)\n",
        "    sheet = workbook.active\n",
        "\n",
        "    # Trova l'indice della colonna\n",
        "    column_index = None\n",
        "    for col in range(1, sheet.max_column + 1):\n",
        "        if sheet.cell(row=1, column=col).value == column_name:\n",
        "            column_index = col\n",
        "            break\n",
        "\n",
        "    if column_index is None:\n",
        "        print(f\"Colonna '{column_name}' non trovata.\")\n",
        "        return\n",
        "\n",
        "    # Aggiungi intestazioni per il conteggio delle parole\n",
        "    sheet.cell(row=1, column=column_index + 1).value = \"Parole nel dizionario\"\n",
        "    sheet.cell(row=1, column=column_index + 2).value = \"Parole assenti nel dizionario\"\n",
        "\n",
        "    # Conta le parole per ogni frase\n",
        "    for row in tqdm(range(2, sheet.max_row + 1), desc=\"Elaborazione\"):\n",
        "        sentence = sheet.cell(row=row, column=column_index).value\n",
        "\n",
        "        # Verifica se la frase è presente\n",
        "        if sentence is not None:\n",
        "            present_words, absent_words = count_words_in_sentence(sentence, dictionary_words, italian_names)\n",
        "            sheet.cell(row=row, column=column_index + 1).value = present_words\n",
        "            sheet.cell(row=row, column=column_index + 2).value = absent_words\n",
        "\n",
        "    # Salva le modifiche\n",
        "    workbook.save(output_file)\n",
        "\n",
        "def count_words_in_dictionary(dictionary_file):\n",
        "    # Leggi il dizionario e restituisci un set di parole senza accenti\n",
        "    with open(dictionary_file, 'r', encoding='utf-8') as file:\n",
        "        dictionary_words = {clean_text(word.strip()) for word in file}\n",
        "    return dictionary_words\n",
        "\n",
        "if __name__ == \"__main__\":\n",
        "    dictionary_file = \"dictionary.txt\"\n",
        "    excel_file = \"RisultatoCompleto.xlsx\"\n",
        "    output_file = \"risultato_valutazione9.xlsx\"\n",
        "    column_name = \"Frasi\"  # Specifica il nome della colonna da analizzare\n",
        "    data_file = \"data.csv\"  # File contenente i dati con i nomi italiani\n",
        "    main(dictionary_file, excel_file, output_file, column_name, data_file)\n"
      ],
      "metadata": {
        "id": "iaoGx-ZLuFzU",
        "outputId": "6641f68c-9b52-4f60-a61d-2130685a6782",
        "colab": {
          "base_uri": "https://localhost:8080/"
        }
      },
      "execution_count": null,
      "outputs": [
        {
          "output_type": "stream",
          "name": "stderr",
          "text": [
            "Elaborazione: 100%|██████████| 29830/29830 [00:01<00:00, 28167.59it/s]\n"
          ]
        }
      ]
    }
  ],
  "metadata": {
    "colab": {
      "name": "Un benvenuto a Colaboratory",
      "provenance": [],
      "include_colab_link": true
    },
    "kernelspec": {
      "display_name": "Python 3",
      "name": "python3"
    }
  },
  "nbformat": 4,
  "nbformat_minor": 0
}